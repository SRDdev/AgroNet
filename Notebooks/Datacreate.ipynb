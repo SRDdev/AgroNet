{
 "cells": [
  {
   "cell_type": "code",
   "execution_count": null,
   "id": "ec94b51f",
   "metadata": {},
   "outputs": [],
   "source": [
    "# import os\n",
    "# raw_directory = 'Raw'\n",
    "# name = 'road'\n",
    "# directory = os.path.join(raw_directory, name)\n",
    "\n",
    "# # Check if the directory exists\n",
    "# if os.path.exists(directory):\n",
    "#     files = os.listdir(directory)\n",
    "#     for i, file_name in enumerate(files):\n",
    "#         _, extension = os.path.splitext(file_name)\n",
    "\n",
    "#         new_name = f'{name}_{i+1}{extension}'\n",
    "\n",
    "#         old_path = os.path.join(directory, file_name)\n",
    "#         new_path = os.path.join(directory, new_name)\n",
    "\n",
    "#         os.rename(old_path, new_path)\n",
    "\n",
    "#     print(f\"Files in '{name}' directory have been renamed.\")\n",
    "# else:\n",
    "#     print(f\"The directory {directory} does not exist.\")"
   ]
  },
  {
   "cell_type": "code",
   "execution_count": 1,
   "id": "0ee1ef87",
   "metadata": {},
   "outputs": [],
   "source": [
    "import os\n",
    "import shutil\n",
    "from sklearn.model_selection import train_test_split"
   ]
  },
  {
   "cell_type": "code",
   "execution_count": 2,
   "id": "bc14df1f",
   "metadata": {},
   "outputs": [],
   "source": [
    "# Define the root directory for the dataset\n",
    "dataset_root = 'final_data'\n",
    "if not os.path.exists(dataset_root):\n",
    "    os.makedirs(dataset_root)"
   ]
  },
  {
   "cell_type": "code",
   "execution_count": 3,
   "id": "fee3b27b",
   "metadata": {},
   "outputs": [],
   "source": [
    "# Define the classes\n",
    "classes = ['a', 'b', 'c', 'road']\n",
    "\n",
    "original_dataset_root = r'Raw'"
   ]
  },
  {
   "cell_type": "code",
   "execution_count": 4,
   "id": "0978330d",
   "metadata": {},
   "outputs": [],
   "source": [
    "# Loop through each class and create train, val, and test directories\n",
    "for class_name in classes:\n",
    "    train_dir = os.path.join(dataset_root, 'train', class_name)\n",
    "    val_dir = os.path.join(dataset_root, 'val', class_name)\n",
    "    test_dir = os.path.join(dataset_root, 'test', class_name)  # Include class_name in the test directory\n",
    "    \n",
    "    os.makedirs(train_dir, exist_ok=True)\n",
    "    os.makedirs(val_dir, exist_ok=True)\n",
    "    os.makedirs(test_dir, exist_ok=True)\n",
    "\n",
    "    # Get the list of images for the current class\n",
    "    class_images = os.listdir(os.path.join(original_dataset_root, class_name))\n",
    "\n",
    "    # Split the data into train, val, and test sets\n",
    "    train_images, test_images = train_test_split(class_images, test_size=0.2, random_state=42)\n",
    "    val_images, test_images = train_test_split(test_images, test_size=0.5, random_state=42)\n",
    "\n",
    "    # Copy images to the respective directories\n",
    "    for image in train_images:\n",
    "        src_path = os.path.join(original_dataset_root, class_name, image)\n",
    "        dest_path = os.path.join(train_dir, image)\n",
    "        shutil.copyfile(src_path, dest_path)\n",
    "\n",
    "    for image in val_images:\n",
    "        src_path = os.path.join(original_dataset_root, class_name, image)\n",
    "        dest_path = os.path.join(val_dir, image)\n",
    "        shutil.copyfile(src_path, dest_path)\n",
    "\n",
    "    for image in test_images:\n",
    "        src_path = os.path.join(original_dataset_root, class_name, image)\n",
    "        dest_path = os.path.join(test_dir, image)\n",
    "        shutil.copyfile(src_path, dest_path)\n"
   ]
  },
  {
   "cell_type": "code",
   "execution_count": null,
   "id": "8e501524",
   "metadata": {},
   "outputs": [],
   "source": []
  }
 ],
 "metadata": {
  "kernelspec": {
   "display_name": "Python 3 (ipykernel)",
   "language": "python",
   "name": "python3"
  },
  "language_info": {
   "codemirror_mode": {
    "name": "ipython",
    "version": 3
   },
   "file_extension": ".py",
   "mimetype": "text/x-python",
   "name": "python",
   "nbconvert_exporter": "python",
   "pygments_lexer": "ipython3",
   "version": "3.10.11"
  }
 },
 "nbformat": 4,
 "nbformat_minor": 5
}
